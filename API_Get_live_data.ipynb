{
 "cells": [
  {
   "cell_type": "code",
   "execution_count": 1,
   "metadata": {},
   "outputs": [],
   "source": [
    "import pandas as pd\n",
    "import requests\n",
    "import time\n",
    "import json\n",
    "import os\n",
    "\n",
    "from datetime import datetime"
   ]
  },
  {
   "cell_type": "code",
   "execution_count": 2,
   "metadata": {},
   "outputs": [],
   "source": [
    "apikey = 'ed51695c-0f7b-45ed-a3d5-2eae45e84a68'\n",
    "resource_id ='f2e5503e-927d-4ad3-9500-4ab9e55deb59'"
   ]
  },
  {
   "cell_type": "code",
   "execution_count": 5,
   "metadata": {},
   "outputs": [
    {
     "name": "stdin",
     "output_type": "stream",
     "text": [
      "Wpisz \"1\" dla autobusów lub \"2\" dla tramwajów  2\n",
      "Dane dotyczące której linii Cię interesują?  4\n",
      "Do kiedy zbierać dane? (YYYY-MM-DD HH:MM:SS) 2022-03-09 12:56:00\n"
     ]
    }
   ],
   "source": [
    "vehicle_type = input('Wpisz \"1\" dla autobusów lub \"2\" dla tramwajów ')\n",
    "lines = input('Dane dotyczące której linii Cię interesują? ')\n",
    "target_time = input('Do kiedy zbierać dane? (YYYY-MM-DD HH:MM:SS)')"
   ]
  },
  {
   "cell_type": "code",
   "execution_count": 6,
   "metadata": {},
   "outputs": [],
   "source": [
    "link = 'https://api.um.warszawa.pl/api/action/busestrams_get/?resource_id=%20' + 'f2e5503e-927d-4ad3-9500-4ab9e55deb59' \\\n",
    "+ '&apikey=' + apikey \\\n",
    "+ '&type=' + vehicle_type \\\n",
    "+ '&line=' + lines"
   ]
  },
  {
   "cell_type": "code",
   "execution_count": 7,
   "metadata": {},
   "outputs": [],
   "source": [
    "requested_data = requests.get(link)\n",
    "json_dictionary = requested_data.json()\n",
    "df = pd.json_normalize(json_dictionary['result'])"
   ]
  },
  {
   "cell_type": "code",
   "execution_count": 8,
   "metadata": {},
   "outputs": [
    {
     "name": "stdout",
     "output_type": "stream",
     "text": [
      "2022-03-09 12:52:50\n",
      "2022-03-09 12:56:00\n"
     ]
    },
    {
     "data": {
      "text/plain": [
       "True"
      ]
     },
     "execution_count": 8,
     "metadata": {},
     "output_type": "execute_result"
    }
   ],
   "source": [
    "current_time = datetime.strptime(df['Time'][0], '%Y-%m-%d %H:%M:%S')\n",
    "match_time = datetime.strptime(target_time, '%Y-%m-%d %H:%M:%S')\n",
    "\n",
    "print(current_time)\n",
    "print(match_time)\n",
    "current_time < match_time"
   ]
  },
  {
   "cell_type": "code",
   "execution_count": 9,
   "metadata": {},
   "outputs": [],
   "source": [
    "match_time = datetime.strptime(target_time, '%Y-%m-%d %H:%M:%S')\n",
    "\n",
    "while current_time < match_time:\n",
    "    requested_data = requests.get(link)\n",
    "    json_dictionary = requested_data.json()\n",
    "    df = pd.json_normalize(json_dictionary['result'])\n",
    "    current_time = datetime.strptime(df['Time'][0], '%Y-%m-%d %H:%M:%S')\n",
    "    with open('test2.txt', 'a') as f:\n",
    "        json.dump(json_dictionary, f)\n",
    "        f.write('\\n' + str(current_time) + '\\n' + str(match_time) + '\\n\\n')\n",
    "        f.close()\n",
    "        time.sleep(30)"
   ]
  },
  {
   "cell_type": "code",
   "execution_count": null,
   "metadata": {},
   "outputs": [],
   "source": []
  }
 ],
 "metadata": {
  "kernelspec": {
   "display_name": "Python 3",
   "language": "python",
   "name": "python3"
  },
  "language_info": {
   "codemirror_mode": {
    "name": "ipython",
    "version": 3
   },
   "file_extension": ".py",
   "mimetype": "text/x-python",
   "name": "python",
   "nbconvert_exporter": "python",
   "pygments_lexer": "ipython3",
   "version": "3.7.9"
  }
 },
 "nbformat": 4,
 "nbformat_minor": 4
}
